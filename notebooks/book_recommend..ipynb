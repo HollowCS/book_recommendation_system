{
 "cells": [
  {
   "cell_type": "code",
   "execution_count": 2,
   "id": "initial_id",
   "metadata": {
    "collapsed": true,
    "ExecuteTime": {
     "end_time": "2023-12-21T07:33:11.994852Z",
     "start_time": "2023-12-21T07:33:11.035526500Z"
    }
   },
   "outputs": [],
   "source": [
    "import pandas as pd\n",
    "import numpy as np\n"
   ]
  },
  {
   "cell_type": "code",
   "execution_count": 3,
   "outputs": [
    {
     "name": "stderr",
     "output_type": "stream",
     "text": [
      "C:\\Users\\madhu\\AppData\\Local\\Temp\\ipykernel_16028\\3479565713.py:1: DtypeWarning: Columns (3) have mixed types. Specify dtype option on import or set low_memory=False.\n",
      "  books = pd.read_csv(\"Books.csv\")\n"
     ]
    }
   ],
   "source": [
    "books = pd.read_csv(\"Books.csv\")\n",
    "ratings = pd.read_csv(\"Ratings.csv\")\n",
    "users = pd.read_csv(\"Users.csv\")\n"
   ],
   "metadata": {
    "collapsed": false,
    "ExecuteTime": {
     "end_time": "2023-12-21T07:33:14.164618100Z",
     "start_time": "2023-12-21T07:33:11.997853800Z"
    }
   },
   "id": "c107cd22105c042"
  },
  {
   "cell_type": "code",
   "execution_count": 4,
   "outputs": [
    {
     "data": {
      "text/plain": "         ISBN                                         Book-Title  \\\n0  0195153448                                Classical Mythology   \n1  0002005018                                       Clara Callan   \n2  0060973129                               Decision in Normandy   \n3  0374157065  Flu: The Story of the Great Influenza Pandemic...   \n4  0393045218                             The Mummies of Urumchi   \n\n            Book-Author Year-Of-Publication                   Publisher  \\\n0    Mark P. O. Morford                2002     Oxford University Press   \n1  Richard Bruce Wright                2001       HarperFlamingo Canada   \n2          Carlo D'Este                1991             HarperPerennial   \n3      Gina Bari Kolata                1999        Farrar Straus Giroux   \n4       E. J. W. Barber                1999  W. W. Norton &amp; Company   \n\n                                         Image-URL-S  \\\n0  http://images.amazon.com/images/P/0195153448.0...   \n1  http://images.amazon.com/images/P/0002005018.0...   \n2  http://images.amazon.com/images/P/0060973129.0...   \n3  http://images.amazon.com/images/P/0374157065.0...   \n4  http://images.amazon.com/images/P/0393045218.0...   \n\n                                         Image-URL-M  \\\n0  http://images.amazon.com/images/P/0195153448.0...   \n1  http://images.amazon.com/images/P/0002005018.0...   \n2  http://images.amazon.com/images/P/0060973129.0...   \n3  http://images.amazon.com/images/P/0374157065.0...   \n4  http://images.amazon.com/images/P/0393045218.0...   \n\n                                         Image-URL-L  \n0  http://images.amazon.com/images/P/0195153448.0...  \n1  http://images.amazon.com/images/P/0002005018.0...  \n2  http://images.amazon.com/images/P/0060973129.0...  \n3  http://images.amazon.com/images/P/0374157065.0...  \n4  http://images.amazon.com/images/P/0393045218.0...  ",
      "text/html": "<div>\n<style scoped>\n    .dataframe tbody tr th:only-of-type {\n        vertical-align: middle;\n    }\n\n    .dataframe tbody tr th {\n        vertical-align: top;\n    }\n\n    .dataframe thead th {\n        text-align: right;\n    }\n</style>\n<table border=\"1\" class=\"dataframe\">\n  <thead>\n    <tr style=\"text-align: right;\">\n      <th></th>\n      <th>ISBN</th>\n      <th>Book-Title</th>\n      <th>Book-Author</th>\n      <th>Year-Of-Publication</th>\n      <th>Publisher</th>\n      <th>Image-URL-S</th>\n      <th>Image-URL-M</th>\n      <th>Image-URL-L</th>\n    </tr>\n  </thead>\n  <tbody>\n    <tr>\n      <th>0</th>\n      <td>0195153448</td>\n      <td>Classical Mythology</td>\n      <td>Mark P. O. Morford</td>\n      <td>2002</td>\n      <td>Oxford University Press</td>\n      <td>http://images.amazon.com/images/P/0195153448.0...</td>\n      <td>http://images.amazon.com/images/P/0195153448.0...</td>\n      <td>http://images.amazon.com/images/P/0195153448.0...</td>\n    </tr>\n    <tr>\n      <th>1</th>\n      <td>0002005018</td>\n      <td>Clara Callan</td>\n      <td>Richard Bruce Wright</td>\n      <td>2001</td>\n      <td>HarperFlamingo Canada</td>\n      <td>http://images.amazon.com/images/P/0002005018.0...</td>\n      <td>http://images.amazon.com/images/P/0002005018.0...</td>\n      <td>http://images.amazon.com/images/P/0002005018.0...</td>\n    </tr>\n    <tr>\n      <th>2</th>\n      <td>0060973129</td>\n      <td>Decision in Normandy</td>\n      <td>Carlo D'Este</td>\n      <td>1991</td>\n      <td>HarperPerennial</td>\n      <td>http://images.amazon.com/images/P/0060973129.0...</td>\n      <td>http://images.amazon.com/images/P/0060973129.0...</td>\n      <td>http://images.amazon.com/images/P/0060973129.0...</td>\n    </tr>\n    <tr>\n      <th>3</th>\n      <td>0374157065</td>\n      <td>Flu: The Story of the Great Influenza Pandemic...</td>\n      <td>Gina Bari Kolata</td>\n      <td>1999</td>\n      <td>Farrar Straus Giroux</td>\n      <td>http://images.amazon.com/images/P/0374157065.0...</td>\n      <td>http://images.amazon.com/images/P/0374157065.0...</td>\n      <td>http://images.amazon.com/images/P/0374157065.0...</td>\n    </tr>\n    <tr>\n      <th>4</th>\n      <td>0393045218</td>\n      <td>The Mummies of Urumchi</td>\n      <td>E. J. W. Barber</td>\n      <td>1999</td>\n      <td>W. W. Norton &amp;amp; Company</td>\n      <td>http://images.amazon.com/images/P/0393045218.0...</td>\n      <td>http://images.amazon.com/images/P/0393045218.0...</td>\n      <td>http://images.amazon.com/images/P/0393045218.0...</td>\n    </tr>\n  </tbody>\n</table>\n</div>"
     },
     "execution_count": 4,
     "metadata": {},
     "output_type": "execute_result"
    }
   ],
   "source": [
    "books.head()"
   ],
   "metadata": {
    "collapsed": false,
    "ExecuteTime": {
     "end_time": "2023-12-21T07:33:14.228580800Z",
     "start_time": "2023-12-21T07:33:14.199579600Z"
    }
   },
   "id": "7411ded324bb3e34"
  },
  {
   "cell_type": "code",
   "execution_count": 5,
   "outputs": [
    {
     "data": {
      "text/plain": "   User-ID        ISBN  Book-Rating\n0   276725  034545104X            0\n1   276726  0155061224            5\n2   276727  0446520802            0\n3   276729  052165615X            3\n4   276729  0521795028            6",
      "text/html": "<div>\n<style scoped>\n    .dataframe tbody tr th:only-of-type {\n        vertical-align: middle;\n    }\n\n    .dataframe tbody tr th {\n        vertical-align: top;\n    }\n\n    .dataframe thead th {\n        text-align: right;\n    }\n</style>\n<table border=\"1\" class=\"dataframe\">\n  <thead>\n    <tr style=\"text-align: right;\">\n      <th></th>\n      <th>User-ID</th>\n      <th>ISBN</th>\n      <th>Book-Rating</th>\n    </tr>\n  </thead>\n  <tbody>\n    <tr>\n      <th>0</th>\n      <td>276725</td>\n      <td>034545104X</td>\n      <td>0</td>\n    </tr>\n    <tr>\n      <th>1</th>\n      <td>276726</td>\n      <td>0155061224</td>\n      <td>5</td>\n    </tr>\n    <tr>\n      <th>2</th>\n      <td>276727</td>\n      <td>0446520802</td>\n      <td>0</td>\n    </tr>\n    <tr>\n      <th>3</th>\n      <td>276729</td>\n      <td>052165615X</td>\n      <td>3</td>\n    </tr>\n    <tr>\n      <th>4</th>\n      <td>276729</td>\n      <td>0521795028</td>\n      <td>6</td>\n    </tr>\n  </tbody>\n</table>\n</div>"
     },
     "execution_count": 5,
     "metadata": {},
     "output_type": "execute_result"
    }
   ],
   "source": [
    "ratings.head()"
   ],
   "metadata": {
    "collapsed": false,
    "ExecuteTime": {
     "end_time": "2023-12-21T07:33:14.271579300Z",
     "start_time": "2023-12-21T07:33:14.229580700Z"
    }
   },
   "id": "456f9903e5069c2f"
  },
  {
   "cell_type": "code",
   "execution_count": 6,
   "outputs": [
    {
     "data": {
      "text/plain": "   User-ID                            Location   Age\n0        1                  nyc, new york, usa   NaN\n1        2           stockton, california, usa  18.0\n2        3     moscow, yukon territory, russia   NaN\n3        4           porto, v.n.gaia, portugal  17.0\n4        5  farnborough, hants, united kingdom   NaN",
      "text/html": "<div>\n<style scoped>\n    .dataframe tbody tr th:only-of-type {\n        vertical-align: middle;\n    }\n\n    .dataframe tbody tr th {\n        vertical-align: top;\n    }\n\n    .dataframe thead th {\n        text-align: right;\n    }\n</style>\n<table border=\"1\" class=\"dataframe\">\n  <thead>\n    <tr style=\"text-align: right;\">\n      <th></th>\n      <th>User-ID</th>\n      <th>Location</th>\n      <th>Age</th>\n    </tr>\n  </thead>\n  <tbody>\n    <tr>\n      <th>0</th>\n      <td>1</td>\n      <td>nyc, new york, usa</td>\n      <td>NaN</td>\n    </tr>\n    <tr>\n      <th>1</th>\n      <td>2</td>\n      <td>stockton, california, usa</td>\n      <td>18.0</td>\n    </tr>\n    <tr>\n      <th>2</th>\n      <td>3</td>\n      <td>moscow, yukon territory, russia</td>\n      <td>NaN</td>\n    </tr>\n    <tr>\n      <th>3</th>\n      <td>4</td>\n      <td>porto, v.n.gaia, portugal</td>\n      <td>17.0</td>\n    </tr>\n    <tr>\n      <th>4</th>\n      <td>5</td>\n      <td>farnborough, hants, united kingdom</td>\n      <td>NaN</td>\n    </tr>\n  </tbody>\n</table>\n</div>"
     },
     "execution_count": 6,
     "metadata": {},
     "output_type": "execute_result"
    }
   ],
   "source": [
    "users.head()"
   ],
   "metadata": {
    "collapsed": false,
    "ExecuteTime": {
     "end_time": "2023-12-21T07:33:14.321578800Z",
     "start_time": "2023-12-21T07:33:14.252584400Z"
    }
   },
   "id": "9cb32b50a0373e84"
  },
  {
   "cell_type": "code",
   "execution_count": 7,
   "outputs": [
    {
     "name": "stdout",
     "output_type": "stream",
     "text": [
      "(271360, 8) (278858, 3) (1149780, 3)\n"
     ]
    }
   ],
   "source": [
    "print(books.shape, users.shape, ratings.shape)"
   ],
   "metadata": {
    "collapsed": false,
    "ExecuteTime": {
     "end_time": "2023-12-21T07:33:14.401579800Z",
     "start_time": "2023-12-21T07:33:14.261582300Z"
    }
   },
   "id": "48369af456315ffe"
  },
  {
   "cell_type": "code",
   "execution_count": 8,
   "outputs": [
    {
     "data": {
      "text/plain": "ISBN                   0\nBook-Title             0\nBook-Author            1\nYear-Of-Publication    0\nPublisher              2\nImage-URL-S            0\nImage-URL-M            0\nImage-URL-L            3\ndtype: int64"
     },
     "execution_count": 8,
     "metadata": {},
     "output_type": "execute_result"
    }
   ],
   "source": [
    "books.isnull().sum()"
   ],
   "metadata": {
    "collapsed": false,
    "ExecuteTime": {
     "end_time": "2023-12-21T07:33:14.650580900Z",
     "start_time": "2023-12-21T07:33:14.571582600Z"
    }
   },
   "id": "99b62cc35b93a0b7"
  },
  {
   "cell_type": "code",
   "execution_count": 9,
   "outputs": [
    {
     "data": {
      "text/plain": "User-ID        0\nISBN           0\nBook-Rating    0\ndtype: int64"
     },
     "execution_count": 9,
     "metadata": {},
     "output_type": "execute_result"
    }
   ],
   "source": [
    "ratings.isnull().sum()"
   ],
   "metadata": {
    "collapsed": false,
    "ExecuteTime": {
     "end_time": "2023-12-21T07:33:14.791581500Z",
     "start_time": "2023-12-21T07:33:14.597584500Z"
    }
   },
   "id": "e9e794947ff601"
  },
  {
   "cell_type": "code",
   "execution_count": 10,
   "outputs": [
    {
     "data": {
      "text/plain": "User-ID          0\nLocation         0\nAge         110762\ndtype: int64"
     },
     "execution_count": 10,
     "metadata": {},
     "output_type": "execute_result"
    }
   ],
   "source": [
    "users.isnull().sum()"
   ],
   "metadata": {
    "collapsed": false,
    "ExecuteTime": {
     "end_time": "2023-12-21T07:33:14.837580100Z",
     "start_time": "2023-12-21T07:33:14.785581200Z"
    }
   },
   "id": "fba95d5d12ec69aa"
  },
  {
   "cell_type": "code",
   "execution_count": 11,
   "outputs": [
    {
     "data": {
      "text/plain": "0"
     },
     "execution_count": 11,
     "metadata": {},
     "output_type": "execute_result"
    }
   ],
   "source": [
    "books.duplicated().sum()"
   ],
   "metadata": {
    "collapsed": false,
    "ExecuteTime": {
     "end_time": "2023-12-21T07:33:15.568580500Z",
     "start_time": "2023-12-21T07:33:14.833582Z"
    }
   },
   "id": "8745c77c48261eaf"
  },
  {
   "cell_type": "code",
   "execution_count": 12,
   "outputs": [
    {
     "data": {
      "text/plain": "0"
     },
     "execution_count": 12,
     "metadata": {},
     "output_type": "execute_result"
    }
   ],
   "source": [
    "ratings.duplicated().sum()"
   ],
   "metadata": {
    "collapsed": false,
    "ExecuteTime": {
     "end_time": "2023-12-21T07:33:15.956584400Z",
     "start_time": "2023-12-21T07:33:15.566586100Z"
    }
   },
   "id": "52ef29c91dc8418e"
  },
  {
   "cell_type": "code",
   "execution_count": 13,
   "outputs": [
    {
     "data": {
      "text/plain": "0"
     },
     "execution_count": 13,
     "metadata": {},
     "output_type": "execute_result"
    }
   ],
   "source": [
    "users.duplicated().sum()"
   ],
   "metadata": {
    "collapsed": false,
    "ExecuteTime": {
     "end_time": "2023-12-21T07:33:16.068586Z",
     "start_time": "2023-12-21T07:33:15.957586400Z"
    }
   },
   "id": "c7ef7c6074e7d448"
  },
  {
   "cell_type": "markdown",
   "source": [
    "# popularity based recommendation system"
   ],
   "metadata": {
    "collapsed": false
   },
   "id": "7a7d3e8c20f326c5"
  },
  {
   "cell_type": "code",
   "execution_count": 14,
   "outputs": [],
   "source": [
    "ratings_with_name = ratings.merge(books, on='ISBN')"
   ],
   "metadata": {
    "collapsed": false,
    "ExecuteTime": {
     "end_time": "2023-12-21T07:33:16.799581300Z",
     "start_time": "2023-12-21T07:33:16.069584900Z"
    }
   },
   "id": "1f157f62ed92fb66"
  },
  {
   "cell_type": "code",
   "execution_count": 15,
   "outputs": [
    {
     "data": {
      "text/plain": "(1031136, 10)"
     },
     "execution_count": 15,
     "metadata": {},
     "output_type": "execute_result"
    }
   ],
   "source": [
    "ratings_with_name.shape"
   ],
   "metadata": {
    "collapsed": false,
    "ExecuteTime": {
     "end_time": "2023-12-21T07:33:16.817582900Z",
     "start_time": "2023-12-21T07:33:16.801584900Z"
    }
   },
   "id": "63979e0745fb0b4"
  },
  {
   "cell_type": "code",
   "execution_count": 16,
   "outputs": [],
   "source": [
    "num_rating_df = ratings_with_name.groupby('Book-Title').count()['Book-Rating'].reset_index()"
   ],
   "metadata": {
    "collapsed": false,
    "ExecuteTime": {
     "end_time": "2023-12-21T07:33:18.038092400Z",
     "start_time": "2023-12-21T07:33:16.817582900Z"
    }
   },
   "id": "73a509a5fb1b3837"
  },
  {
   "cell_type": "code",
   "execution_count": 17,
   "outputs": [],
   "source": [
    "num_rating_df.rename(columns={'Book-Rating': 'num_ratings'}, inplace=True)"
   ],
   "metadata": {
    "collapsed": false,
    "ExecuteTime": {
     "end_time": "2023-12-21T07:33:18.054092500Z",
     "start_time": "2023-12-21T07:33:18.038092400Z"
    }
   },
   "id": "24342fb4e3b25a0f"
  },
  {
   "cell_type": "code",
   "execution_count": 18,
   "outputs": [
    {
     "data": {
      "text/plain": "                                               Book-Title  num_ratings\n0        A Light in the Storm: The Civil War Diary of ...            4\n1                                   Always Have Popsicles            1\n2                    Apple Magic (The Collector's series)            1\n3        Ask Lily (Young Women of Faith: Lily Series, ...            1\n4        Beyond IBM: Leadership Marketing and Finance ...            1\n...                                                   ...          ...\n241066                                      Ã?Â?lpiraten.            2\n241067                     Ã?Â?rger mit Produkt X. Roman.            4\n241068                                Ã?Â?sterlich leben.            1\n241069                              Ã?Â?stlich der Berge.            3\n241070                                  Ã?Â?thique en toc            2\n\n[241071 rows x 2 columns]",
      "text/html": "<div>\n<style scoped>\n    .dataframe tbody tr th:only-of-type {\n        vertical-align: middle;\n    }\n\n    .dataframe tbody tr th {\n        vertical-align: top;\n    }\n\n    .dataframe thead th {\n        text-align: right;\n    }\n</style>\n<table border=\"1\" class=\"dataframe\">\n  <thead>\n    <tr style=\"text-align: right;\">\n      <th></th>\n      <th>Book-Title</th>\n      <th>num_ratings</th>\n    </tr>\n  </thead>\n  <tbody>\n    <tr>\n      <th>0</th>\n      <td>A Light in the Storm: The Civil War Diary of ...</td>\n      <td>4</td>\n    </tr>\n    <tr>\n      <th>1</th>\n      <td>Always Have Popsicles</td>\n      <td>1</td>\n    </tr>\n    <tr>\n      <th>2</th>\n      <td>Apple Magic (The Collector's series)</td>\n      <td>1</td>\n    </tr>\n    <tr>\n      <th>3</th>\n      <td>Ask Lily (Young Women of Faith: Lily Series, ...</td>\n      <td>1</td>\n    </tr>\n    <tr>\n      <th>4</th>\n      <td>Beyond IBM: Leadership Marketing and Finance ...</td>\n      <td>1</td>\n    </tr>\n    <tr>\n      <th>...</th>\n      <td>...</td>\n      <td>...</td>\n    </tr>\n    <tr>\n      <th>241066</th>\n      <td>Ã?Â?lpiraten.</td>\n      <td>2</td>\n    </tr>\n    <tr>\n      <th>241067</th>\n      <td>Ã?Â?rger mit Produkt X. Roman.</td>\n      <td>4</td>\n    </tr>\n    <tr>\n      <th>241068</th>\n      <td>Ã?Â?sterlich leben.</td>\n      <td>1</td>\n    </tr>\n    <tr>\n      <th>241069</th>\n      <td>Ã?Â?stlich der Berge.</td>\n      <td>3</td>\n    </tr>\n    <tr>\n      <th>241070</th>\n      <td>Ã?Â?thique en toc</td>\n      <td>2</td>\n    </tr>\n  </tbody>\n</table>\n<p>241071 rows × 2 columns</p>\n</div>"
     },
     "execution_count": 18,
     "metadata": {},
     "output_type": "execute_result"
    }
   ],
   "source": [
    "num_rating_df"
   ],
   "metadata": {
    "collapsed": false,
    "ExecuteTime": {
     "end_time": "2023-12-21T07:33:18.096096500Z",
     "start_time": "2023-12-21T07:33:18.055094100Z"
    }
   },
   "id": "cbf00f45822a19d6"
  },
  {
   "cell_type": "code",
   "execution_count": 19,
   "outputs": [],
   "source": [
    "avg_rating_df = ratings_with_name.groupby('Book-Title').mean()['Book-Rating'].reset_index()\n",
    "avg_rating_df.rename(columns={'Book-Rating': 'avg_ratings'}, inplace=True)\n"
   ],
   "metadata": {
    "collapsed": false,
    "ExecuteTime": {
     "end_time": "2023-12-21T07:33:18.748512800Z",
     "start_time": "2023-12-21T07:33:18.121092900Z"
    }
   },
   "id": "a28a81b0ab726483"
  },
  {
   "cell_type": "code",
   "execution_count": 20,
   "outputs": [
    {
     "data": {
      "text/plain": "                                               Book-Title  avg_ratings\n0        A Light in the Storm: The Civil War Diary of ...     2.250000\n1                                   Always Have Popsicles     0.000000\n2                    Apple Magic (The Collector's series)     0.000000\n3        Ask Lily (Young Women of Faith: Lily Series, ...     8.000000\n4        Beyond IBM: Leadership Marketing and Finance ...     0.000000\n...                                                   ...          ...\n241066                                      Ã?Â?lpiraten.     0.000000\n241067                     Ã?Â?rger mit Produkt X. Roman.     5.250000\n241068                                Ã?Â?sterlich leben.     7.000000\n241069                              Ã?Â?stlich der Berge.     2.666667\n241070                                  Ã?Â?thique en toc     4.000000\n\n[241071 rows x 2 columns]",
      "text/html": "<div>\n<style scoped>\n    .dataframe tbody tr th:only-of-type {\n        vertical-align: middle;\n    }\n\n    .dataframe tbody tr th {\n        vertical-align: top;\n    }\n\n    .dataframe thead th {\n        text-align: right;\n    }\n</style>\n<table border=\"1\" class=\"dataframe\">\n  <thead>\n    <tr style=\"text-align: right;\">\n      <th></th>\n      <th>Book-Title</th>\n      <th>avg_ratings</th>\n    </tr>\n  </thead>\n  <tbody>\n    <tr>\n      <th>0</th>\n      <td>A Light in the Storm: The Civil War Diary of ...</td>\n      <td>2.250000</td>\n    </tr>\n    <tr>\n      <th>1</th>\n      <td>Always Have Popsicles</td>\n      <td>0.000000</td>\n    </tr>\n    <tr>\n      <th>2</th>\n      <td>Apple Magic (The Collector's series)</td>\n      <td>0.000000</td>\n    </tr>\n    <tr>\n      <th>3</th>\n      <td>Ask Lily (Young Women of Faith: Lily Series, ...</td>\n      <td>8.000000</td>\n    </tr>\n    <tr>\n      <th>4</th>\n      <td>Beyond IBM: Leadership Marketing and Finance ...</td>\n      <td>0.000000</td>\n    </tr>\n    <tr>\n      <th>...</th>\n      <td>...</td>\n      <td>...</td>\n    </tr>\n    <tr>\n      <th>241066</th>\n      <td>Ã?Â?lpiraten.</td>\n      <td>0.000000</td>\n    </tr>\n    <tr>\n      <th>241067</th>\n      <td>Ã?Â?rger mit Produkt X. Roman.</td>\n      <td>5.250000</td>\n    </tr>\n    <tr>\n      <th>241068</th>\n      <td>Ã?Â?sterlich leben.</td>\n      <td>7.000000</td>\n    </tr>\n    <tr>\n      <th>241069</th>\n      <td>Ã?Â?stlich der Berge.</td>\n      <td>2.666667</td>\n    </tr>\n    <tr>\n      <th>241070</th>\n      <td>Ã?Â?thique en toc</td>\n      <td>4.000000</td>\n    </tr>\n  </tbody>\n</table>\n<p>241071 rows × 2 columns</p>\n</div>"
     },
     "execution_count": 20,
     "metadata": {},
     "output_type": "execute_result"
    }
   ],
   "source": [
    "avg_rating_df"
   ],
   "metadata": {
    "collapsed": false,
    "ExecuteTime": {
     "end_time": "2023-12-21T07:33:18.774514600Z",
     "start_time": "2023-12-21T07:33:18.749513400Z"
    }
   },
   "id": "fd0284fdda9b6714"
  },
  {
   "cell_type": "code",
   "execution_count": 21,
   "outputs": [],
   "source": [
    "popular_df = num_rating_df.merge(avg_rating_df, on='Book-Title')"
   ],
   "metadata": {
    "collapsed": false,
    "ExecuteTime": {
     "end_time": "2023-12-21T07:33:19.032511400Z",
     "start_time": "2023-12-21T07:33:18.766515600Z"
    }
   },
   "id": "31c980d4c8aa57eb"
  },
  {
   "cell_type": "code",
   "execution_count": 22,
   "outputs": [
    {
     "data": {
      "text/plain": "                                               Book-Title  num_ratings  \\\n0        A Light in the Storm: The Civil War Diary of ...            4   \n1                                   Always Have Popsicles            1   \n2                    Apple Magic (The Collector's series)            1   \n3        Ask Lily (Young Women of Faith: Lily Series, ...            1   \n4        Beyond IBM: Leadership Marketing and Finance ...            1   \n...                                                   ...          ...   \n241066                                      Ã?Â?lpiraten.            2   \n241067                     Ã?Â?rger mit Produkt X. Roman.            4   \n241068                                Ã?Â?sterlich leben.            1   \n241069                              Ã?Â?stlich der Berge.            3   \n241070                                  Ã?Â?thique en toc            2   \n\n        avg_ratings  \n0          2.250000  \n1          0.000000  \n2          0.000000  \n3          8.000000  \n4          0.000000  \n...             ...  \n241066     0.000000  \n241067     5.250000  \n241068     7.000000  \n241069     2.666667  \n241070     4.000000  \n\n[241071 rows x 3 columns]",
      "text/html": "<div>\n<style scoped>\n    .dataframe tbody tr th:only-of-type {\n        vertical-align: middle;\n    }\n\n    .dataframe tbody tr th {\n        vertical-align: top;\n    }\n\n    .dataframe thead th {\n        text-align: right;\n    }\n</style>\n<table border=\"1\" class=\"dataframe\">\n  <thead>\n    <tr style=\"text-align: right;\">\n      <th></th>\n      <th>Book-Title</th>\n      <th>num_ratings</th>\n      <th>avg_ratings</th>\n    </tr>\n  </thead>\n  <tbody>\n    <tr>\n      <th>0</th>\n      <td>A Light in the Storm: The Civil War Diary of ...</td>\n      <td>4</td>\n      <td>2.250000</td>\n    </tr>\n    <tr>\n      <th>1</th>\n      <td>Always Have Popsicles</td>\n      <td>1</td>\n      <td>0.000000</td>\n    </tr>\n    <tr>\n      <th>2</th>\n      <td>Apple Magic (The Collector's series)</td>\n      <td>1</td>\n      <td>0.000000</td>\n    </tr>\n    <tr>\n      <th>3</th>\n      <td>Ask Lily (Young Women of Faith: Lily Series, ...</td>\n      <td>1</td>\n      <td>8.000000</td>\n    </tr>\n    <tr>\n      <th>4</th>\n      <td>Beyond IBM: Leadership Marketing and Finance ...</td>\n      <td>1</td>\n      <td>0.000000</td>\n    </tr>\n    <tr>\n      <th>...</th>\n      <td>...</td>\n      <td>...</td>\n      <td>...</td>\n    </tr>\n    <tr>\n      <th>241066</th>\n      <td>Ã?Â?lpiraten.</td>\n      <td>2</td>\n      <td>0.000000</td>\n    </tr>\n    <tr>\n      <th>241067</th>\n      <td>Ã?Â?rger mit Produkt X. Roman.</td>\n      <td>4</td>\n      <td>5.250000</td>\n    </tr>\n    <tr>\n      <th>241068</th>\n      <td>Ã?Â?sterlich leben.</td>\n      <td>1</td>\n      <td>7.000000</td>\n    </tr>\n    <tr>\n      <th>241069</th>\n      <td>Ã?Â?stlich der Berge.</td>\n      <td>3</td>\n      <td>2.666667</td>\n    </tr>\n    <tr>\n      <th>241070</th>\n      <td>Ã?Â?thique en toc</td>\n      <td>2</td>\n      <td>4.000000</td>\n    </tr>\n  </tbody>\n</table>\n<p>241071 rows × 3 columns</p>\n</div>"
     },
     "execution_count": 22,
     "metadata": {},
     "output_type": "execute_result"
    }
   ],
   "source": [
    "popular_df"
   ],
   "metadata": {
    "collapsed": false,
    "ExecuteTime": {
     "end_time": "2023-12-21T07:33:19.036514700Z",
     "start_time": "2023-12-21T07:33:19.019514700Z"
    }
   },
   "id": "523f920441b995c9"
  },
  {
   "cell_type": "code",
   "execution_count": 23,
   "outputs": [],
   "source": [
    "popular_df = popular_df[popular_df['num_ratings']>250].sort_values('avg_ratings', ascending=False).head(50)"
   ],
   "metadata": {
    "collapsed": false,
    "ExecuteTime": {
     "end_time": "2023-12-21T07:33:19.051512600Z",
     "start_time": "2023-12-21T07:33:19.036514700Z"
    }
   },
   "id": "4a6251a9c894ae5c"
  },
  {
   "cell_type": "code",
   "execution_count": 24,
   "outputs": [],
   "source": [
    "popular_df = popular_df.merge(books, on='Book-Title').drop_duplicates('Book-Title')[['Book-Title', 'Book-Author', 'Image-URL-M', 'num_ratings', 'avg_ratings']]"
   ],
   "metadata": {
    "collapsed": false,
    "ExecuteTime": {
     "end_time": "2023-12-21T07:33:19.317512Z",
     "start_time": "2023-12-21T07:33:19.228511800Z"
    }
   },
   "id": "9afe6ab74137c7f2"
  },
  {
   "cell_type": "markdown",
   "source": [
    "# collaborative Filtering based Recommendation System"
   ],
   "metadata": {
    "collapsed": false
   },
   "id": "79ec3eae32cf5d21"
  },
  {
   "cell_type": "code",
   "execution_count": 26,
   "outputs": [],
   "source": [
    "X = ratings_with_name.groupby('User-ID').count()['Book-Rating'] > 200"
   ],
   "metadata": {
    "collapsed": false,
    "ExecuteTime": {
     "end_time": "2023-12-21T07:33:48.207452Z",
     "start_time": "2023-12-21T07:33:47.249304600Z"
    }
   },
   "id": "169f74c5e76988b"
  },
  {
   "cell_type": "code",
   "execution_count": 31,
   "outputs": [],
   "source": [
    "rated_users = X[X].index"
   ],
   "metadata": {
    "collapsed": false,
    "ExecuteTime": {
     "end_time": "2023-12-21T07:37:19.965502Z",
     "start_time": "2023-12-21T07:37:19.951500600Z"
    }
   },
   "id": "b885f0ebe717874f"
  },
  {
   "cell_type": "code",
   "execution_count": 38,
   "outputs": [],
   "source": [
    "filtered_ratings = ratings_with_name[ratings_with_name['User-ID'].isin(rated_users)]"
   ],
   "metadata": {
    "collapsed": false,
    "ExecuteTime": {
     "end_time": "2023-12-21T07:40:30.910213500Z",
     "start_time": "2023-12-21T07:40:30.790215800Z"
    }
   },
   "id": "7daa5cd880ac5c66"
  },
  {
   "cell_type": "code",
   "execution_count": 41,
   "outputs": [],
   "source": [
    " y = filtered_ratings.groupby('Book-Title').count()['Book-Rating']>=50\n",
    "famous_books = y[y].index"
   ],
   "metadata": {
    "collapsed": false,
    "ExecuteTime": {
     "end_time": "2023-12-21T07:41:57.354733200Z",
     "start_time": "2023-12-21T07:41:56.678918400Z"
    }
   },
   "id": "df8b81189228d90e"
  },
  {
   "cell_type": "code",
   "execution_count": 42,
   "outputs": [],
   "source": [
    "final_ratings = filtered_ratings[filtered_ratings['Book-Title'].isin(famous_books)]"
   ],
   "metadata": {
    "collapsed": false,
    "ExecuteTime": {
     "end_time": "2023-12-21T07:42:42.980987600Z",
     "start_time": "2023-12-21T07:42:42.927143800Z"
    }
   },
   "id": "c62409b4ce62b2f7"
  },
  {
   "cell_type": "code",
   "execution_count": 43,
   "outputs": [
    {
     "data": {
      "text/plain": "    User-ID        ISBN  Book-Rating    Book-Title      Book-Author  \\\n63   278418  0446520802            0  The Notebook  Nicholas Sparks   \n65     3363  0446520802            0  The Notebook  Nicholas Sparks   \n66     7158  0446520802           10  The Notebook  Nicholas Sparks   \n69    11676  0446520802           10  The Notebook  Nicholas Sparks   \n74    23768  0446520802            6  The Notebook  Nicholas Sparks   \n\n   Year-Of-Publication     Publisher  \\\n63                1996  Warner Books   \n65                1996  Warner Books   \n66                1996  Warner Books   \n69                1996  Warner Books   \n74                1996  Warner Books   \n\n                                          Image-URL-S  \\\n63  http://images.amazon.com/images/P/0446520802.0...   \n65  http://images.amazon.com/images/P/0446520802.0...   \n66  http://images.amazon.com/images/P/0446520802.0...   \n69  http://images.amazon.com/images/P/0446520802.0...   \n74  http://images.amazon.com/images/P/0446520802.0...   \n\n                                          Image-URL-M  \\\n63  http://images.amazon.com/images/P/0446520802.0...   \n65  http://images.amazon.com/images/P/0446520802.0...   \n66  http://images.amazon.com/images/P/0446520802.0...   \n69  http://images.amazon.com/images/P/0446520802.0...   \n74  http://images.amazon.com/images/P/0446520802.0...   \n\n                                          Image-URL-L  \n63  http://images.amazon.com/images/P/0446520802.0...  \n65  http://images.amazon.com/images/P/0446520802.0...  \n66  http://images.amazon.com/images/P/0446520802.0...  \n69  http://images.amazon.com/images/P/0446520802.0...  \n74  http://images.amazon.com/images/P/0446520802.0...  ",
      "text/html": "<div>\n<style scoped>\n    .dataframe tbody tr th:only-of-type {\n        vertical-align: middle;\n    }\n\n    .dataframe tbody tr th {\n        vertical-align: top;\n    }\n\n    .dataframe thead th {\n        text-align: right;\n    }\n</style>\n<table border=\"1\" class=\"dataframe\">\n  <thead>\n    <tr style=\"text-align: right;\">\n      <th></th>\n      <th>User-ID</th>\n      <th>ISBN</th>\n      <th>Book-Rating</th>\n      <th>Book-Title</th>\n      <th>Book-Author</th>\n      <th>Year-Of-Publication</th>\n      <th>Publisher</th>\n      <th>Image-URL-S</th>\n      <th>Image-URL-M</th>\n      <th>Image-URL-L</th>\n    </tr>\n  </thead>\n  <tbody>\n    <tr>\n      <th>63</th>\n      <td>278418</td>\n      <td>0446520802</td>\n      <td>0</td>\n      <td>The Notebook</td>\n      <td>Nicholas Sparks</td>\n      <td>1996</td>\n      <td>Warner Books</td>\n      <td>http://images.amazon.com/images/P/0446520802.0...</td>\n      <td>http://images.amazon.com/images/P/0446520802.0...</td>\n      <td>http://images.amazon.com/images/P/0446520802.0...</td>\n    </tr>\n    <tr>\n      <th>65</th>\n      <td>3363</td>\n      <td>0446520802</td>\n      <td>0</td>\n      <td>The Notebook</td>\n      <td>Nicholas Sparks</td>\n      <td>1996</td>\n      <td>Warner Books</td>\n      <td>http://images.amazon.com/images/P/0446520802.0...</td>\n      <td>http://images.amazon.com/images/P/0446520802.0...</td>\n      <td>http://images.amazon.com/images/P/0446520802.0...</td>\n    </tr>\n    <tr>\n      <th>66</th>\n      <td>7158</td>\n      <td>0446520802</td>\n      <td>10</td>\n      <td>The Notebook</td>\n      <td>Nicholas Sparks</td>\n      <td>1996</td>\n      <td>Warner Books</td>\n      <td>http://images.amazon.com/images/P/0446520802.0...</td>\n      <td>http://images.amazon.com/images/P/0446520802.0...</td>\n      <td>http://images.amazon.com/images/P/0446520802.0...</td>\n    </tr>\n    <tr>\n      <th>69</th>\n      <td>11676</td>\n      <td>0446520802</td>\n      <td>10</td>\n      <td>The Notebook</td>\n      <td>Nicholas Sparks</td>\n      <td>1996</td>\n      <td>Warner Books</td>\n      <td>http://images.amazon.com/images/P/0446520802.0...</td>\n      <td>http://images.amazon.com/images/P/0446520802.0...</td>\n      <td>http://images.amazon.com/images/P/0446520802.0...</td>\n    </tr>\n    <tr>\n      <th>74</th>\n      <td>23768</td>\n      <td>0446520802</td>\n      <td>6</td>\n      <td>The Notebook</td>\n      <td>Nicholas Sparks</td>\n      <td>1996</td>\n      <td>Warner Books</td>\n      <td>http://images.amazon.com/images/P/0446520802.0...</td>\n      <td>http://images.amazon.com/images/P/0446520802.0...</td>\n      <td>http://images.amazon.com/images/P/0446520802.0...</td>\n    </tr>\n  </tbody>\n</table>\n</div>"
     },
     "execution_count": 43,
     "metadata": {},
     "output_type": "execute_result"
    }
   ],
   "source": [
    "final_ratings.head()"
   ],
   "metadata": {
    "collapsed": false,
    "ExecuteTime": {
     "end_time": "2023-12-21T07:42:50.574380800Z",
     "start_time": "2023-12-21T07:42:50.549378800Z"
    }
   },
   "id": "f0cf6d5e532bd134"
  },
  {
   "cell_type": "code",
   "execution_count": 44,
   "outputs": [
    {
     "data": {
      "text/plain": "(58586, 10)"
     },
     "execution_count": 44,
     "metadata": {},
     "output_type": "execute_result"
    }
   ],
   "source": [
    "final_ratings.shape"
   ],
   "metadata": {
    "collapsed": false,
    "ExecuteTime": {
     "end_time": "2023-12-21T07:43:37.106043300Z",
     "start_time": "2023-12-21T07:43:37.081552100Z"
    }
   },
   "id": "e3f01f026f40bac4"
  },
  {
   "cell_type": "code",
   "execution_count": 45,
   "outputs": [],
   "source": [
    "final_ratings = final_ratings.drop_duplicates(['User-ID', 'Book-Title'])"
   ],
   "metadata": {
    "collapsed": false,
    "ExecuteTime": {
     "end_time": "2023-12-21T07:44:19.608254900Z",
     "start_time": "2023-12-21T07:44:19.572257800Z"
    }
   },
   "id": "64888c6e4223c6c"
  },
  {
   "cell_type": "code",
   "execution_count": 46,
   "outputs": [
    {
     "data": {
      "text/plain": "(56629, 10)"
     },
     "execution_count": 46,
     "metadata": {},
     "output_type": "execute_result"
    }
   ],
   "source": [
    "final_ratings.shape"
   ],
   "metadata": {
    "collapsed": false,
    "ExecuteTime": {
     "end_time": "2023-12-21T07:44:23.106197600Z",
     "start_time": "2023-12-21T07:44:23.070436300Z"
    }
   },
   "id": "cfda10113b7d3b91"
  },
  {
   "cell_type": "code",
   "execution_count": 48,
   "outputs": [],
   "source": [
    "pivot_table = final_ratings.pivot_table(columns='User-ID', index='Book-Title', values='Book-Rating')"
   ],
   "metadata": {
    "collapsed": false,
    "ExecuteTime": {
     "end_time": "2023-12-21T07:46:05.806378800Z",
     "start_time": "2023-12-21T07:46:05.741901600Z"
    }
   },
   "id": "196b9b7f69030fcf"
  },
  {
   "cell_type": "code",
   "execution_count": 49,
   "outputs": [],
   "source": [
    "pivot_table.fillna(0, inplace=True)"
   ],
   "metadata": {
    "collapsed": false,
    "ExecuteTime": {
     "end_time": "2023-12-21T07:46:15.692328100Z",
     "start_time": "2023-12-21T07:46:15.648325100Z"
    }
   },
   "id": "91037f05ee99934b"
  },
  {
   "cell_type": "code",
   "execution_count": 50,
   "outputs": [
    {
     "data": {
      "text/plain": "User-ID              254     2276    2766    2977    3363    4017    4385    \\\nBook-Title                                                                    \n1984                    9.0     0.0     0.0     0.0     0.0     0.0     0.0   \n1st to Die: A Novel     0.0     0.0     0.0     0.0     0.0     0.0     0.0   \n2nd Chance              0.0    10.0     0.0     0.0     0.0     0.0     0.0   \n4 Blondes               0.0     0.0     0.0     0.0     0.0     0.0     0.0   \nA Bend in the Road      0.0     0.0     7.0     0.0     0.0     0.0     0.0   \n\nUser-ID              6251    6323    6543    ...  271705  273979  274004  \\\nBook-Title                                   ...                           \n1984                    0.0     0.0     0.0  ...    10.0     0.0     0.0   \n1st to Die: A Novel     0.0     0.0     9.0  ...     0.0     0.0     0.0   \n2nd Chance              0.0     0.0     0.0  ...     0.0     0.0     0.0   \n4 Blondes               0.0     0.0     0.0  ...     0.0     0.0     0.0   \nA Bend in the Road      0.0     0.0     0.0  ...     0.0     0.0     0.0   \n\nUser-ID              274061  274301  274308  275970  277427  277639  278418  \nBook-Title                                                                   \n1984                    0.0     0.0     0.0     0.0     0.0     0.0     0.0  \n1st to Die: A Novel     0.0     0.0     0.0     0.0     0.0     0.0     0.0  \n2nd Chance              0.0     0.0     0.0     0.0     0.0     0.0     0.0  \n4 Blondes               0.0     0.0     0.0     0.0     0.0     0.0     0.0  \nA Bend in the Road      0.0     0.0     0.0     0.0     0.0     0.0     0.0  \n\n[5 rows x 810 columns]",
      "text/html": "<div>\n<style scoped>\n    .dataframe tbody tr th:only-of-type {\n        vertical-align: middle;\n    }\n\n    .dataframe tbody tr th {\n        vertical-align: top;\n    }\n\n    .dataframe thead th {\n        text-align: right;\n    }\n</style>\n<table border=\"1\" class=\"dataframe\">\n  <thead>\n    <tr style=\"text-align: right;\">\n      <th>User-ID</th>\n      <th>254</th>\n      <th>2276</th>\n      <th>2766</th>\n      <th>2977</th>\n      <th>3363</th>\n      <th>4017</th>\n      <th>4385</th>\n      <th>6251</th>\n      <th>6323</th>\n      <th>6543</th>\n      <th>...</th>\n      <th>271705</th>\n      <th>273979</th>\n      <th>274004</th>\n      <th>274061</th>\n      <th>274301</th>\n      <th>274308</th>\n      <th>275970</th>\n      <th>277427</th>\n      <th>277639</th>\n      <th>278418</th>\n    </tr>\n    <tr>\n      <th>Book-Title</th>\n      <th></th>\n      <th></th>\n      <th></th>\n      <th></th>\n      <th></th>\n      <th></th>\n      <th></th>\n      <th></th>\n      <th></th>\n      <th></th>\n      <th></th>\n      <th></th>\n      <th></th>\n      <th></th>\n      <th></th>\n      <th></th>\n      <th></th>\n      <th></th>\n      <th></th>\n      <th></th>\n      <th></th>\n    </tr>\n  </thead>\n  <tbody>\n    <tr>\n      <th>1984</th>\n      <td>9.0</td>\n      <td>0.0</td>\n      <td>0.0</td>\n      <td>0.0</td>\n      <td>0.0</td>\n      <td>0.0</td>\n      <td>0.0</td>\n      <td>0.0</td>\n      <td>0.0</td>\n      <td>0.0</td>\n      <td>...</td>\n      <td>10.0</td>\n      <td>0.0</td>\n      <td>0.0</td>\n      <td>0.0</td>\n      <td>0.0</td>\n      <td>0.0</td>\n      <td>0.0</td>\n      <td>0.0</td>\n      <td>0.0</td>\n      <td>0.0</td>\n    </tr>\n    <tr>\n      <th>1st to Die: A Novel</th>\n      <td>0.0</td>\n      <td>0.0</td>\n      <td>0.0</td>\n      <td>0.0</td>\n      <td>0.0</td>\n      <td>0.0</td>\n      <td>0.0</td>\n      <td>0.0</td>\n      <td>0.0</td>\n      <td>9.0</td>\n      <td>...</td>\n      <td>0.0</td>\n      <td>0.0</td>\n      <td>0.0</td>\n      <td>0.0</td>\n      <td>0.0</td>\n      <td>0.0</td>\n      <td>0.0</td>\n      <td>0.0</td>\n      <td>0.0</td>\n      <td>0.0</td>\n    </tr>\n    <tr>\n      <th>2nd Chance</th>\n      <td>0.0</td>\n      <td>10.0</td>\n      <td>0.0</td>\n      <td>0.0</td>\n      <td>0.0</td>\n      <td>0.0</td>\n      <td>0.0</td>\n      <td>0.0</td>\n      <td>0.0</td>\n      <td>0.0</td>\n      <td>...</td>\n      <td>0.0</td>\n      <td>0.0</td>\n      <td>0.0</td>\n      <td>0.0</td>\n      <td>0.0</td>\n      <td>0.0</td>\n      <td>0.0</td>\n      <td>0.0</td>\n      <td>0.0</td>\n      <td>0.0</td>\n    </tr>\n    <tr>\n      <th>4 Blondes</th>\n      <td>0.0</td>\n      <td>0.0</td>\n      <td>0.0</td>\n      <td>0.0</td>\n      <td>0.0</td>\n      <td>0.0</td>\n      <td>0.0</td>\n      <td>0.0</td>\n      <td>0.0</td>\n      <td>0.0</td>\n      <td>...</td>\n      <td>0.0</td>\n      <td>0.0</td>\n      <td>0.0</td>\n      <td>0.0</td>\n      <td>0.0</td>\n      <td>0.0</td>\n      <td>0.0</td>\n      <td>0.0</td>\n      <td>0.0</td>\n      <td>0.0</td>\n    </tr>\n    <tr>\n      <th>A Bend in the Road</th>\n      <td>0.0</td>\n      <td>0.0</td>\n      <td>7.0</td>\n      <td>0.0</td>\n      <td>0.0</td>\n      <td>0.0</td>\n      <td>0.0</td>\n      <td>0.0</td>\n      <td>0.0</td>\n      <td>0.0</td>\n      <td>...</td>\n      <td>0.0</td>\n      <td>0.0</td>\n      <td>0.0</td>\n      <td>0.0</td>\n      <td>0.0</td>\n      <td>0.0</td>\n      <td>0.0</td>\n      <td>0.0</td>\n      <td>0.0</td>\n      <td>0.0</td>\n    </tr>\n  </tbody>\n</table>\n<p>5 rows × 810 columns</p>\n</div>"
     },
     "execution_count": 50,
     "metadata": {},
     "output_type": "execute_result"
    }
   ],
   "source": [
    "pivot_table.head()"
   ],
   "metadata": {
    "collapsed": false,
    "ExecuteTime": {
     "end_time": "2023-12-21T07:46:21.828331200Z",
     "start_time": "2023-12-21T07:46:21.771334600Z"
    }
   },
   "id": "7268159fa60bfba2"
  },
  {
   "cell_type": "code",
   "execution_count": 56,
   "outputs": [],
   "source": [
    "from sklearn.metrics.pairwise import cosine_similarity"
   ],
   "metadata": {
    "collapsed": false,
    "ExecuteTime": {
     "end_time": "2023-12-21T07:58:37.883902400Z",
     "start_time": "2023-12-21T07:58:37.802783Z"
    }
   },
   "id": "7fa2421043dcd054"
  },
  {
   "cell_type": "code",
   "execution_count": 60,
   "outputs": [],
   "source": [
    "similarity_score = cosine_similarity(pivot_table)"
   ],
   "metadata": {
    "collapsed": false,
    "ExecuteTime": {
     "end_time": "2023-12-21T07:59:47.224761700Z",
     "start_time": "2023-12-21T07:59:47.198759Z"
    }
   },
   "id": "9956a957f525bac4"
  },
  {
   "cell_type": "code",
   "execution_count": 61,
   "outputs": [
    {
     "data": {
      "text/plain": "array([1.        , 0.0841001 , 0.        , 0.        , 0.03968173,\n       0.        , 0.08079637, 0.12100617, 0.        , 0.0689879 ,\n       0.        , 0.06653784, 0.02049267, 0.07385189, 0.10156542,\n       0.05627621, 0.09254055, 0.02517755, 0.        , 0.0996    ,\n       0.        , 0.14095049, 0.07716826, 0.06048009, 0.07062482,\n       0.        , 0.05441889, 0.11802482, 0.06198355, 0.11248734,\n       0.        , 0.        , 0.        , 0.07135348, 0.04520214,\n       0.        , 0.08245636, 0.        , 0.        , 0.06341217,\n       0.11485427, 0.03644198, 0.08215009, 0.0723036 , 0.08084091,\n       0.03186867, 0.05393691, 0.24720469, 0.1094262 , 0.04991492,\n       0.08166472, 0.0663627 , 0.        , 0.04314426, 0.        ,\n       0.        , 0.03921516, 0.        , 0.05975376, 0.03732759,\n       0.19467532, 0.        , 0.        , 0.        , 0.04208223,\n       0.10517028, 0.14374234, 0.        , 0.12062538, 0.05752568,\n       0.        , 0.        , 0.        , 0.10246121, 0.        ,\n       0.02808303, 0.        , 0.0511024 , 0.        , 0.08513147,\n       0.02117358, 0.        , 0.26341144, 0.        , 0.09543683,\n       0.05874623, 0.1191144 , 0.12041551, 0.09598103, 0.        ,\n       0.04661351, 0.        , 0.13176478, 0.0322588 , 0.        ,\n       0.01566954, 0.        , 0.        , 0.        , 0.        ,\n       0.        , 0.11912491, 0.03310007, 0.03762582, 0.05151821,\n       0.        , 0.02678657, 0.05257929, 0.        , 0.04605012,\n       0.        , 0.        , 0.07298624, 0.        , 0.        ,\n       0.        , 0.        , 0.0922622 , 0.14466064, 0.15255912,\n       0.05594933, 0.06963749, 0.04202452, 0.06197612, 0.03709064,\n       0.04120556, 0.        , 0.03269392, 0.04655242, 0.        ,\n       0.        , 0.0713803 , 0.        , 0.        , 0.        ,\n       0.        , 0.03016721, 0.07583888, 0.        , 0.        ,\n       0.        , 0.        , 0.        , 0.        , 0.        ,\n       0.02847608, 0.        , 0.05150722, 0.        , 0.08045553,\n       0.02723015, 0.09794626, 0.05612282, 0.12662088, 0.04840247,\n       0.09331291, 0.        , 0.        , 0.06378523, 0.        ,\n       0.04440681, 0.        , 0.        , 0.01369271, 0.05006375,\n       0.        , 0.        , 0.        , 0.        , 0.13198963,\n       0.04368083, 0.        , 0.        , 0.        , 0.14700773,\n       0.        , 0.        , 0.        , 0.02804185, 0.        ,\n       0.        , 0.21301248, 0.        , 0.08352132, 0.        ,\n       0.        , 0.05310383, 0.07948874, 0.        , 0.        ,\n       0.05894817, 0.        , 0.12845754, 0.        , 0.06501789,\n       0.08828308, 0.0471301 , 0.11824972, 0.08694916, 0.        ,\n       0.        , 0.        , 0.15272666, 0.03548835, 0.04706374,\n       0.09597493, 0.12141907, 0.04139449, 0.04424234, 0.03420562,\n       0.        , 0.07795332, 0.05515899, 0.04693824, 0.14192822,\n       0.08280436, 0.11930631, 0.07004086, 0.07085209, 0.11330238,\n       0.        , 0.        , 0.        , 0.        , 0.03610352,\n       0.14072795, 0.02633402, 0.06414501, 0.10077795, 0.05325881,\n       0.09472623, 0.06084932, 0.05283504, 0.        , 0.        ,\n       0.        , 0.        , 0.        , 0.        , 0.        ,\n       0.        , 0.04633546, 0.        , 0.1219376 , 0.07708914,\n       0.05873102, 0.        , 0.        , 0.        , 0.02896632,\n       0.06898771, 0.12713015, 0.        , 0.13625683, 0.06173931,\n       0.09679664, 0.04847976, 0.        , 0.        , 0.03085525,\n       0.        , 0.1000479 , 0.14187742, 0.        , 0.05418491,\n       0.        , 0.        , 0.02972472, 0.        , 0.16812169,\n       0.07636158, 0.06682169, 0.        , 0.        , 0.        ,\n       0.07289096, 0.05482214, 0.04782404, 0.        , 0.        ,\n       0.        , 0.08529495, 0.        , 0.        , 0.        ,\n       0.        , 0.11193131, 0.        , 0.        , 0.04842628,\n       0.        , 0.03924645, 0.        , 0.12440682, 0.        ,\n       0.        , 0.05932033, 0.03521564, 0.        , 0.        ,\n       0.05120068, 0.05645071, 0.13537951, 0.09810286, 0.        ,\n       0.10843475, 0.04729234, 0.09627571, 0.        , 0.16946817,\n       0.05337151, 0.        , 0.10604641, 0.        , 0.        ,\n       0.        , 0.08802295, 0.03918949, 0.17610663, 0.        ,\n       0.        , 0.        , 0.06318574, 0.08913389, 0.08126263,\n       0.        , 0.10209434, 0.10095461, 0.02572102, 0.        ,\n       0.05404839, 0.07273666, 0.        , 0.        , 0.15569765,\n       0.        , 0.        , 0.        , 0.        , 0.        ,\n       0.        , 0.        , 0.        , 0.        , 0.22751706,\n       0.        , 0.03837657, 0.02772564, 0.107206  , 0.04244268,\n       0.04171996, 0.        , 0.        , 0.05187575, 0.17168013,\n       0.05615582, 0.        , 0.14352159, 0.10729668, 0.        ,\n       0.0470002 , 0.        , 0.11211273, 0.08282373, 0.0786645 ,\n       0.0745585 , 0.14346041, 0.        , 0.        , 0.05903929,\n       0.        , 0.05659546, 0.        , 0.08897948, 0.11770587,\n       0.        , 0.04865284, 0.08980804, 0.        , 0.        ,\n       0.        , 0.046755  , 0.        , 0.        , 0.        ,\n       0.09964429, 0.0559623 , 0.13482963, 0.        , 0.05556083,\n       0.        , 0.        , 0.0434272 , 0.        , 0.        ,\n       0.        , 0.06779466, 0.14492046, 0.05895032, 0.        ,\n       0.06967384, 0.        , 0.09966486, 0.        , 0.        ,\n       0.        , 0.04938236, 0.15774   , 0.        , 0.1192197 ,\n       0.11631684, 0.        , 0.        , 0.        , 0.        ,\n       0.        , 0.05331797, 0.        , 0.05888633, 0.        ,\n       0.11013275, 0.07994432, 0.05421342, 0.04560333, 0.        ,\n       0.04263609, 0.04628197, 0.04601679, 0.        , 0.0662485 ,\n       0.        , 0.09598284, 0.10058184, 0.        , 0.10727215,\n       0.        , 0.        , 0.10166075, 0.10636577, 0.07575132,\n       0.07428248, 0.06149794, 0.07899631, 0.03797659, 0.0473158 ,\n       0.        , 0.        , 0.05089106, 0.        , 0.        ,\n       0.04467102, 0.        , 0.        , 0.05174311, 0.        ,\n       0.        , 0.        , 0.04173351, 0.05758682, 0.12475264,\n       0.        , 0.07118302, 0.06253231, 0.        , 0.04677897,\n       0.10945949, 0.03663604, 0.04298219, 0.        , 0.05986322,\n       0.1062072 , 0.        , 0.05571641, 0.        , 0.13652392,\n       0.04716868, 0.14228723, 0.        , 0.        , 0.05424803,\n       0.        , 0.06575206, 0.12872672, 0.        , 0.07133193,\n       0.05367945, 0.04997512, 0.04026986, 0.15839482, 0.11303421,\n       0.04958373, 0.0629533 , 0.        , 0.        , 0.10540728,\n       0.10386416, 0.0368681 , 0.        , 0.        , 0.        ,\n       0.20093207, 0.03371571, 0.04205257, 0.02133216, 0.07155208,\n       0.04173351, 0.05127508, 0.06116404, 0.        , 0.        ,\n       0.        , 0.13187339, 0.10734346, 0.08365629, 0.08345197,\n       0.09428341, 0.05101356, 0.06860718, 0.10979398, 0.        ,\n       0.19337909, 0.        , 0.07590093, 0.        , 0.03548149,\n       0.06625827, 0.        , 0.18740063, 0.05710799, 0.        ,\n       0.04816906, 0.07305769, 0.        , 0.        , 0.02678915,\n       0.04895138, 0.07658079, 0.15208869, 0.0554084 , 0.        ,\n       0.08061605, 0.16697352, 0.06855435, 0.        , 0.16670015,\n       0.26737808, 0.17352035, 0.07048953, 0.04581512, 0.06592493,\n       0.1221434 , 0.21469785, 0.16820819, 0.        , 0.17888537,\n       0.        , 0.03839659, 0.10520922, 0.13485964, 0.        ,\n       0.07321988, 0.        , 0.10977404, 0.        , 0.05615582,\n       0.07282917, 0.        , 0.05184282, 0.        , 0.12836492,\n       0.08258957, 0.        , 0.        , 0.        , 0.09422213,\n       0.04355451, 0.14033858, 0.        , 0.10135719, 0.03079279,\n       0.04523438, 0.0457263 , 0.05932344, 0.12633126, 0.06066569,\n       0.        , 0.04133684, 0.        , 0.14825432, 0.01878155,\n       0.14215572, 0.14436951, 0.        , 0.05657199, 0.09908407,\n       0.06488688, 0.05038164, 0.05367098, 0.17485357, 0.        ,\n       0.        , 0.03375649, 0.02964034, 0.        , 0.09574949,\n       0.07015352, 0.13109661, 0.        , 0.06027019, 0.        ,\n       0.02942548, 0.10451956, 0.076967  , 0.        , 0.        ,\n       0.05651736, 0.069321  , 0.04179575, 0.        , 0.        ,\n       0.08261848, 0.        , 0.16425109, 0.03140153, 0.18310896,\n       0.04162412, 0.        , 0.09088878, 0.08616271, 0.        ,\n       0.08878096, 0.08972629, 0.06115798, 0.        , 0.23506028,\n       0.        , 0.11546792, 0.04304559, 0.12195542, 0.        ,\n       0.12314372, 0.04299916, 0.        , 0.14040764, 0.        ,\n       0.09349793, 0.03831394, 0.166063  , 0.0700302 , 0.08720907,\n       0.11409027, 0.02500066, 0.        , 0.        , 0.05877891,\n       0.01313334, 0.        , 0.03690213, 0.04173351, 0.12658343,\n       0.10042506, 0.        , 0.        , 0.        , 0.04986961,\n       0.08755966, 0.14999146, 0.06831855, 0.        , 0.        ,\n       0.07550245, 0.03825515, 0.08206133, 0.        , 0.12075255,\n       0.03746339, 0.        , 0.05338308, 0.        , 0.        ,\n       0.        , 0.        , 0.12083549, 0.0700843 , 0.08998078,\n       0.        , 0.08008237, 0.        , 0.04968089, 0.06880737,\n       0.07656121, 0.        , 0.05616699, 0.        , 0.        ,\n       0.        , 0.03835045, 0.        , 0.        , 0.10301948,\n       0.        , 0.05766424, 0.        , 0.1018633 , 0.04861807,\n       0.0356652 ])"
     },
     "execution_count": 61,
     "metadata": {},
     "output_type": "execute_result"
    }
   ],
   "source": [
    "similarity_score[0]"
   ],
   "metadata": {
    "collapsed": false,
    "ExecuteTime": {
     "end_time": "2023-12-21T07:59:49.829260200Z",
     "start_time": "2023-12-21T07:59:49.815261100Z"
    }
   },
   "id": "a71693a5867ebd84"
  },
  {
   "cell_type": "code",
   "execution_count": 70,
   "outputs": [],
   "source": [
    "def recommend(book_name):\n",
    "    index = np.where(pivot_table.index == book_name)[0][0]\n",
    "    distances = similarity_score[index]\n",
    "    similar_books = sorted(list(enumerate(distances)), reverse=True, key=lambda x: x[1])[1:6]\n",
    "    data = []\n",
    "    for i in similar_books:\n",
    "        item = []\n",
    "        temp_df = books[books['Book-Title'] == pivot_table.index[i[0]]]\n",
    "        item.extend(list(temp_df.drop_duplicates('Book-Title')['Book-Title'].values))\n",
    "        item.extend(list(temp_df.drop_duplicates('Book-Title')['Book-Author'].values))\n",
    "        item.extend(list(temp_df.drop_duplicates('Book-Title')['Image-URL-M'].values))\n",
    "        \n",
    "        data.append(item)\n",
    "    \n",
    "    return data\n",
    "    "
   ],
   "metadata": {
    "collapsed": false,
    "ExecuteTime": {
     "end_time": "2023-12-21T08:51:56.281889Z",
     "start_time": "2023-12-21T08:51:56.267854100Z"
    }
   },
   "id": "4a3de5a8cd54f27d"
  },
  {
   "cell_type": "code",
   "execution_count": 71,
   "outputs": [
    {
     "data": {
      "text/plain": "[['1984',\n  'George Orwell',\n  'http://images.amazon.com/images/P/0451524934.01.MZZZZZZZ.jpg'],\n ['Angus, Thongs and Full-Frontal Snogging: Confessions of Georgia Nicolson',\n  'Louise Rennison',\n  'http://images.amazon.com/images/P/0064472272.01.MZZZZZZZ.jpg'],\n ['Midnight',\n  'Dean R. Koontz',\n  'http://images.amazon.com/images/P/0425118703.01.MZZZZZZZ.jpg'],\n ['Second Nature',\n  'Alice Hoffman',\n  'http://images.amazon.com/images/P/0399139087.01.MZZZZZZZ.jpg'],\n ['Lord of the Flies',\n  'William Gerald Golding',\n  'http://images.amazon.com/images/P/0399501487.01.MZZZZZZZ.jpg']]"
     },
     "execution_count": 71,
     "metadata": {},
     "output_type": "execute_result"
    }
   ],
   "source": [
    "recommend('Animal Farm')"
   ],
   "metadata": {
    "collapsed": false,
    "ExecuteTime": {
     "end_time": "2023-12-21T08:51:58.881509700Z",
     "start_time": "2023-12-21T08:51:58.704093Z"
    }
   },
   "id": "6374a477d0b0c7bb"
  },
  {
   "cell_type": "code",
   "execution_count": 67,
   "outputs": [],
   "source": [
    "import pickle\n",
    "pickle.dump(popular_df, open('../popular.pkl', 'wb'))"
   ],
   "metadata": {
    "collapsed": false,
    "ExecuteTime": {
     "end_time": "2023-12-21T08:30:01.650219500Z",
     "start_time": "2023-12-21T08:30:01.633675400Z"
    }
   },
   "id": "ed927fa709d482bc"
  },
  {
   "cell_type": "code",
   "execution_count": 73,
   "outputs": [],
   "source": [
    "pickle.dump(pivot_table, open('../pivot_table.pkl', 'wb'))\n",
    "pickle.dump(books, open('../books.pkl', 'wb'))\n",
    "pickle.dump(similarity_score, open('../similarity_score.pkl', 'wb'))"
   ],
   "metadata": {
    "collapsed": false,
    "ExecuteTime": {
     "end_time": "2023-12-21T08:53:58.503630700Z",
     "start_time": "2023-12-21T08:53:57.366989300Z"
    }
   },
   "id": "c5868ec0d5ecf21b"
  },
  {
   "cell_type": "code",
   "execution_count": null,
   "outputs": [],
   "source": [],
   "metadata": {
    "collapsed": false
   },
   "id": "606f417b5e24a1ef"
  }
 ],
 "metadata": {
  "kernelspec": {
   "display_name": "Python 3",
   "language": "python",
   "name": "python3"
  },
  "language_info": {
   "codemirror_mode": {
    "name": "ipython",
    "version": 2
   },
   "file_extension": ".py",
   "mimetype": "text/x-python",
   "name": "python",
   "nbconvert_exporter": "python",
   "pygments_lexer": "ipython2",
   "version": "2.7.6"
  }
 },
 "nbformat": 4,
 "nbformat_minor": 5
}
